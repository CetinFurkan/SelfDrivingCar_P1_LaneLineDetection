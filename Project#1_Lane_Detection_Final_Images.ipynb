{
 "cells": [
  {
   "cell_type": "markdown",
   "metadata": {},
   "source": [
    "Furkan Çetin - 16/11/2020"
   ]
  },
  {
   "cell_type": "markdown",
   "metadata": {},
   "source": [
    "# Project #1: Finding Lane Lines on the Road (for images)"
   ]
  },
  {
   "cell_type": "markdown",
   "metadata": {},
   "source": [
    "## Main Code"
   ]
  },
  {
   "cell_type": "code",
   "execution_count": null,
   "metadata": {},
   "outputs": [],
   "source": [
    "#importing some useful packages\n",
    "import matplotlib.pyplot as plt\n",
    "import matplotlib.image as mpimg\n",
    "import numpy as np\n",
    "import cv2\n",
    "import os"
   ]
  },
  {
   "cell_type": "code",
   "execution_count": null,
   "metadata": {},
   "outputs": [],
   "source": [
    "#Listing images \n",
    "list_images_names = os.listdir(\"test_images/\")\n",
    "\n",
    "for img_name in list_images_names:\n",
    "    img_input = cv2.imread(r'test_images/'+img_name)\n",
    "    img_output = process_image(img_input)\n",
    "    plt.imshow(img_output[...,::-1])\n",
    "    plt.show()\n",
    "    cv2.imwrite(r'test_images_output/Output_'+img_name, img_output)"
   ]
  },
  {
   "cell_type": "markdown",
   "metadata": {},
   "source": [
    "## process_image(image_input)"
   ]
  },
  {
   "cell_type": "code",
   "execution_count": null,
   "metadata": {},
   "outputs": [],
   "source": [
    "def process_image(image_input):\n",
    "    # x coordinate of vertical line located at the center \n",
    "    mid_vertical_x = 485\n",
    "    \n",
    "    # point list of the polygonal area on image where we want to apply our filters\n",
    "    region_coordinates =[[(110,540), (950,540), (550,330), (420,330)]]   \n",
    "\n",
    "    # Convert image into gray scale\n",
    "    image_grey = cv2.cvtColor(image_input,cv2.COLOR_RGB2GRAY)\n",
    "    \n",
    "    # Add images extra blurring\n",
    "    image_grey_blurred = cv2.GaussianBlur(image_grey,(5, 5),0)\n",
    "    \n",
    "    # Apply Canny algorithm for edge detection \n",
    "    image_canny = cv2.Canny(image_grey_blurred, 40, 100)\n",
    "\n",
    "    # Crop the images with polygonal region\n",
    "    mask = np.zeros_like(image_canny)    \n",
    "    vertices = np.array(region_coordinates, dtype=np.int32)\n",
    "    cv2.fillPoly(mask, vertices, 255)\n",
    "    image_masked_edges = cv2.bitwise_and(image_canny, mask)\n",
    "\n",
    "    # Apply Hough Transformations\n",
    "    lines = cv2.HoughLinesP(image_masked_edges, 2, (np.pi)/180, 15, np.array([]),40, 20)\n",
    "  \n",
    "    # Draw final lines onto the image\n",
    "    xLeft  = []\n",
    "    yLeft = []\n",
    "    xRight  = []\n",
    "    yRight = []  \n",
    "    \n",
    "    \n",
    "    for line in lines:\n",
    "        for x1,y1,x2,y2 in line:\n",
    "            # check for the FIRST point of HoughLines list \n",
    "            if (x1 < mid_vertical_x): # that means the point is on the LEFT lane\n",
    "                xLeft.append(x1)\n",
    "                yLeft.append(y1)\n",
    "            else:                     # that means the point is on the RIGHT lane\n",
    "                xRight.append(x1)\n",
    "                yRight.append(y1)\n",
    "                    \n",
    "            # check for the SECOND point of HoughLines list       \n",
    "            if (x2 < mid_vertical_x): # that means the point is on the LEFT lane\n",
    "                xLeft.append(x2)\n",
    "                yLeft.append(y2)\n",
    "            else:                     # that means the point is on the RIGHT lane\n",
    "                xRight.append(x2)\n",
    "                yRight.append(y2)\n",
    "\n",
    "    \n",
    "    # Find average of all the points on both lanes and fit a line onto them\n",
    "    blank_canvas = np.zeros(image_input.shape, np.uint8)\n",
    "\n",
    "    [slope, intercept] = np.polyfit(xLeft, yLeft, 1)\n",
    "    startY = 330\n",
    "    endY = 540\n",
    "    startX = int( (startY - intercept) / slope)\n",
    "    endX = int((endY - intercept) / slope)\n",
    "    cv2.line(blank_canvas,(startX,startY),(endX,endY),(0, 0, 255) ,11) # Red Line for LEFT Lane  [(B,G,R) standart for OpenCV]\n",
    "    \n",
    "    [slope, intercept] = np.polyfit(xRight, yRight, 1)\n",
    "    startY = 330\n",
    "    endY = 540\n",
    "    startX = int( (startY - intercept) / slope)\n",
    "    endX = int((endY - intercept) / slope)\n",
    "    cv2.line(blank_canvas,(startX,startY),(endX,endY),(0, 0, 255) ,11)  # Red Line for RIGHT Lane  [(B,G,R) standart for OpenCV]\n",
    "    \n",
    "    image_result = cv2.addWeighted(image_input, 1.0, blank_canvas, 0.5, 0)\n",
    "    \n",
    "    # Return the final image that consists the input image with detected lane lines\n",
    "    return image_result"
   ]
  }
 ],
 "metadata": {
  "kernelspec": {
   "display_name": "Python 3",
   "language": "python",
   "name": "python3"
  },
  "language_info": {
   "codemirror_mode": {
    "name": "ipython",
    "version": 3
   },
   "file_extension": ".py",
   "mimetype": "text/x-python",
   "name": "python",
   "nbconvert_exporter": "python",
   "pygments_lexer": "ipython3",
   "version": "3.8.5"
  }
 },
 "nbformat": 4,
 "nbformat_minor": 4
}
